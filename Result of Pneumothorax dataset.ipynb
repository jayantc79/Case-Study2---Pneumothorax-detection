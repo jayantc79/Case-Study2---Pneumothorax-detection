{
 "cells": [
  {
   "cell_type": "code",
   "execution_count": 1,
   "metadata": {},
   "outputs": [
    {
     "name": "stdout",
     "output_type": "stream",
     "text": [
      "+------------------------------------------------------------------------------------------+----------------------+----------------+---------------+------------+-----------+\n",
      "|                                        Model name                                        | Number of parameters | Train Accuracy | Test Accuracy | Train loss | Test loss |\n",
      "+------------------------------------------------------------------------------------------+----------------------+----------------+---------------+------------+-----------+\n",
      "|                                       simple unet                                        |      1,941,105       |     0.9936     |     0.9853    |   0.0165   |   0.0777  |\n",
      "|                    Unet with densenet121 Bckbone(data augmentation)                      |      12,059,345      |     0.9936     |     0.9875    |   0.0245   |   0.0821  |\n",
      "| Unet and densenet 121 as backbone (with Dropout layers) model without data augumentation |      12,059,345      |     0.9962     |     0.9867    |   0.0141   |   0.0686  |\n",
      "|             Unet with backbone Densenet121 model without data augumentation              |      12,059,345      |     0.9969     |     0.9871    |   0.0086   |   0.0575  |\n",
      "+------------------------------------------------------------------------------------------+----------------------+----------------+---------------+------------+-----------+\n"
     ]
    }
   ],
   "source": [
    "from prettytable import PrettyTable\n",
    "x = PrettyTable()\n",
    "x.field_names = [\"Model name\",\"Number of parameters\",\"Train Accuracy\",\"Test Accuracy\",'Train loss','Test loss']\n",
    "x.add_row([ \"simple unet\",'1,941,105','0.9936','0.9853','0.0165','0.0777'])\n",
    "x.add_row([ \"Unet with densenet121 Bckbone(data augmentation) \",'12,059,345','0.9936','0.9875','0.0245','0.0821'])\n",
    "x.add_row([ \"Unet and densenet 121 as backbone (with Dropout layers) model without data augumentation\",'12,059,345','0.9962','0.9867','0.0141','0.0686'])\n",
    "x.add_row([ \"Unet with backbone Densenet121 model without data augumentation\",'12,059,345','0.9969','0.9871','0.0086','0.0575'])\n",
    "print(x)"
   ]
  },
  {
   "cell_type": "code",
   "execution_count": null,
   "metadata": {},
   "outputs": [],
   "source": []
  }
 ],
 "metadata": {
  "kernelspec": {
   "display_name": "Python 3",
   "language": "python",
   "name": "python3"
  },
  "language_info": {
   "codemirror_mode": {
    "name": "ipython",
    "version": 3
   },
   "file_extension": ".py",
   "mimetype": "text/x-python",
   "name": "python",
   "nbconvert_exporter": "python",
   "pygments_lexer": "ipython3",
   "version": "3.7.4"
  }
 },
 "nbformat": 4,
 "nbformat_minor": 2
}
